{
  "nbformat": 4,
  "nbformat_minor": 0,
  "metadata": {
    "colab": {
      "provenance": []
    },
    "kernelspec": {
      "name": "python3",
      "display_name": "Python 3"
    },
    "language_info": {
      "name": "python"
    }
  },
  "cells": [
    {
      "cell_type": "code",
      "execution_count": 16,
      "metadata": {
        "colab": {
          "base_uri": "https://localhost:8080/"
        },
        "id": "-ukvzTb43Goj",
        "outputId": "a30fabfc-1787-4e5c-9a55-8f0c7d60f4bc"
      },
      "outputs": [
        {
          "output_type": "stream",
          "name": "stderr",
          "text": [
            "[nltk_data] Downloading package punkt to /root/nltk_data...\n",
            "[nltk_data]   Package punkt is already up-to-date!\n",
            "[nltk_data] Downloading package stopwords to /root/nltk_data...\n",
            "[nltk_data]   Package stopwords is already up-to-date!\n",
            "[nltk_data] Downloading package wordnet to /root/nltk_data...\n"
          ]
        }
      ],
      "source": [
        "import pandas as pd\n",
        "import re\n",
        "from nltk.corpus import stopwords\n",
        "import os\n",
        "import json\n",
        "import matplotlib.pyplot as plt\n",
        "from matplotlib.pyplot import figure\n",
        "from sklearn.feature_extraction.text import TfidfVectorizer\n",
        "import numpy as np\n",
        "import nltk\n",
        "nltk.download('punkt')\n",
        "nltk.download('stopwords')\n",
        "nltk.download('wordnet')\n",
        "from gensim.models import Word2Vec\n",
        "from nltk.tokenize import word_tokenize\n",
        "from nltk.stem import WordNetLemmatizer\n"
      ]
    },
    {
      "cell_type": "code",
      "source": [
        "df = pd.read_csv('Lorde.tsv', delimiter='\\t')\n",
        "\n",
        "# Pré-processamento de texto\n",
        "def preprocess_text(text):\n",
        "    tokens = word_tokenize(text)\n",
        "    tokens = [word for word in tokens if word.isalpha()]  # Remove pontuações\n",
        "    tokens = [word.lower() for word in tokens]  # Transforma em minúsculas\n",
        "    tokens = [word for word in tokens if word not in stopwords.words('english')]  # Remove stopwords\n",
        "    lemmatizer = WordNetLemmatizer()\n",
        "    tokens = [lemmatizer.lemmatize(word) for word in tokens]  # Lematização\n",
        "    return tokens\n",
        "\n",
        "df['preprocessed_corpus'] = df['Corpus'].apply(preprocess_text)\n",
        "\n",
        "preprocessed_corpus = df['processed_corpus'].tolist()\n",
        "\n",
        "model = Word2Vec(sentences=preprocessed_corpus, vector_size=100, window=5, min_count=1, workers=4)\n",
        "\n",
        "vector_example = model.wv['liability']\n",
        "similarity_example = model.wv.similarity('liability', 'lose')\n",
        "\n",
        "similar_words_example = model.wv.most_similar('liability', topn=5)\n"
      ],
      "metadata": {
        "id": "bwe0bZcC3OHB"
      },
      "execution_count": 22,
      "outputs": []
    },
    {
      "cell_type": "code",
      "source": [
        "vector_example"
      ],
      "metadata": {
        "colab": {
          "base_uri": "https://localhost:8080/"
        },
        "id": "qJryOvdU5OSX",
        "outputId": "29822ec2-9f01-491b-c0f1-fb4cfbb3cc11"
      },
      "execution_count": 23,
      "outputs": [
        {
          "output_type": "execute_result",
          "data": {
            "text/plain": [
              "array([-7.84773659e-03, -4.86957096e-03,  1.02913408e-02, -7.00613018e-03,\n",
              "        7.26374611e-03, -1.24805784e-02,  8.08276143e-03, -5.56281488e-03,\n",
              "       -1.10072354e-02, -9.61003639e-03, -1.07149743e-02,  1.00837776e-03,\n",
              "       -6.83453307e-03, -7.47697800e-03,  5.14870742e-03, -8.96755699e-03,\n",
              "        3.71061452e-03, -3.98804806e-03, -9.23234224e-03, -1.76597456e-03,\n",
              "        7.94832304e-04,  7.66060874e-03, -1.26573234e-03,  4.52413922e-03,\n",
              "       -1.60587323e-03,  8.42662485e-05, -6.43205596e-03, -9.15745925e-03,\n",
              "       -7.93509558e-03, -7.25013483e-03,  9.08973254e-03,  1.06474720e-02,\n",
              "        5.97390288e-04, -4.43117740e-03,  4.88090282e-03, -5.69514450e-05,\n",
              "        3.39934626e-03,  4.50195372e-03,  4.96129459e-03, -8.99356138e-03,\n",
              "        4.57614521e-03, -1.05290050e-02, -1.00722900e-02,  2.74150819e-03,\n",
              "        3.17058782e-03,  8.48911144e-03,  7.13896798e-03,  8.55299179e-03,\n",
              "        6.41832920e-03,  4.12491383e-03, -2.25029956e-03, -5.79800317e-03,\n",
              "        2.24175537e-03, -6.23934204e-03, -5.43630868e-03,  7.76253827e-03,\n",
              "        3.25101032e-03, -6.62847015e-04,  6.28380477e-03,  2.61151139e-03,\n",
              "        5.22083696e-03,  1.09158512e-02,  2.30108318e-03, -4.07207338e-03,\n",
              "        5.49789693e-05,  7.80861219e-03, -6.04322972e-03, -1.63749035e-03,\n",
              "       -4.76664538e-03,  1.52939770e-04, -1.07019872e-03,  8.48093908e-03,\n",
              "       -5.45265095e-04, -6.71873614e-03,  9.33369342e-03,  8.80392734e-03,\n",
              "        4.76361274e-05, -2.05531553e-03, -6.96956529e-04,  6.80860551e-03,\n",
              "       -3.63578834e-03,  3.93114006e-03, -5.80370985e-03,  8.34017340e-03,\n",
              "       -3.05190217e-03, -3.66532896e-03, -4.08714265e-03, -1.58121984e-04,\n",
              "        4.50272346e-03,  7.34935421e-03,  3.53486673e-03, -3.19639686e-03,\n",
              "       -7.37276347e-03,  6.42789016e-03, -2.84105819e-03,  1.01731690e-02,\n",
              "        1.08283835e-04,  2.59747496e-03, -6.36188593e-03,  5.64620737e-03],\n",
              "      dtype=float32)"
            ]
          },
          "metadata": {},
          "execution_count": 23
        }
      ]
    },
    {
      "cell_type": "code",
      "source": [
        "similarity_example"
      ],
      "metadata": {
        "colab": {
          "base_uri": "https://localhost:8080/"
        },
        "id": "ur_AghnT5PFY",
        "outputId": "fffa1a65-106d-4b34-88ac-446d78a37008"
      },
      "execution_count": 24,
      "outputs": [
        {
          "output_type": "execute_result",
          "data": {
            "text/plain": [
              "0.16267146"
            ]
          },
          "metadata": {},
          "execution_count": 24
        }
      ]
    },
    {
      "cell_type": "code",
      "source": [
        "similar_words_example"
      ],
      "metadata": {
        "colab": {
          "base_uri": "https://localhost:8080/"
        },
        "id": "FLCEBD5W5QoC",
        "outputId": "2169991c-cbdc-4e2c-e5a2-dfc2fc96a6a1"
      },
      "execution_count": 25,
      "outputs": [
        {
          "output_type": "execute_result",
          "data": {
            "text/plain": [
              "[('let', 0.37659952044487),\n",
              " ('hip', 0.36110031604766846),\n",
              " ('work', 0.3578011691570282),\n",
              " ('green', 0.3515467643737793),\n",
              " ('around', 0.34846290946006775)]"
            ]
          },
          "metadata": {},
          "execution_count": 25
        }
      ]
    }
  ]
}