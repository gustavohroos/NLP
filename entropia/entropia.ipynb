{
 "cells": [
  {
   "cell_type": "code",
   "execution_count": 2,
   "metadata": {},
   "outputs": [
    {
     "name": "stdout",
     "output_type": "stream",
     "text": [
      "A entropia de ARARAQUARA é 1.69\n",
      "A entropia de UFPEL é 2.32\n",
      "A entropia de PELOTAS é 2.81\n",
      "A menor entropia é 1.69 e pertence a palavra ARARAQUARA\n",
      "A maior entropia é 2.81 e pertence a palavra PELOTAS\n",
      "Portanto, de acordo com a entropia, a palavra mais complexa é PELOTAS\n"
     ]
    }
   ],
   "source": [
    "from numpy import log2\n",
    "\n",
    "palavras = [\n",
    "    \"ARARAQUARA\",\n",
    "    \"UFPEL\",\n",
    "    \"PELOTAS\"\n",
    "]\n",
    "\n",
    "def entropia(palavra):\n",
    "    n = len(palavra)\n",
    "    freq = {l: palavra.count(l) for l in palavra}\n",
    "    ent = 0\n",
    "    for f in freq.values():\n",
    "        p = f / n\n",
    "        ent -= p * log2(p)\n",
    "    return ent\n",
    "\n",
    "entropias = {p: entropia(p) for p in palavras}\n",
    "\n",
    "for p, e in entropias.items():\n",
    "    print(f\"A entropia de {p} é {e:.2f}\")\n",
    "\n",
    "print(f\"A menor entropia é {min(entropias.values()):.2f} e pertence a palavra {min(entropias, key=entropias.get)}\")\n",
    "print(f\"A maior entropia é {max(entropias.values()):.2f} e pertence a palavra {max(entropias, key=entropias.get)}\")\n",
    "print(f\"Portanto, de acordo com a entropia, a palavra mais complexa é {max(entropias, key=entropias.get)}\")"
   ]
  }
 ],
 "metadata": {
  "kernelspec": {
   "display_name": "ds",
   "language": "python",
   "name": "python3"
  },
  "language_info": {
   "codemirror_mode": {
    "name": "ipython",
    "version": 3
   },
   "file_extension": ".py",
   "mimetype": "text/x-python",
   "name": "python",
   "nbconvert_exporter": "python",
   "pygments_lexer": "ipython3",
   "version": "3.10.9"
  }
 },
 "nbformat": 4,
 "nbformat_minor": 2
}
