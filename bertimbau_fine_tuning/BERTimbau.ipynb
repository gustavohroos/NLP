{
  "nbformat": 4,
  "nbformat_minor": 0,
  "metadata": {
    "colab": {
      "provenance": [],
      "gpuType": "T4"
    },
    "kernelspec": {
      "name": "python3",
      "display_name": "Python 3"
    },
    "language_info": {
      "name": "python"
    },
    "accelerator": "GPU"
  },
  "cells": [
    {
      "cell_type": "markdown",
      "source": [
        "# Carregamento dos dados\n",
        "Vamos utilizar a biblioteca ``datasets`` do ``HuggingFace`` para carregar um dataset de notícias em Português BR."
      ],
      "metadata": {
        "id": "0osqYXE_TKti"
      }
    },
    {
      "cell_type": "code",
      "source": [
        "! pip install datasets"
      ],
      "metadata": {
        "id": "vrZFOntD1ITI",
        "colab": {
          "base_uri": "https://localhost:8080/"
        },
        "outputId": "ff374332-12a8-4359-9049-048015d4121f"
      },
      "execution_count": 1,
      "outputs": [
        {
          "output_type": "stream",
          "name": "stdout",
          "text": [
            "Requirement already satisfied: datasets in /usr/local/lib/python3.10/dist-packages (2.18.0)\n",
            "Requirement already satisfied: filelock in /usr/local/lib/python3.10/dist-packages (from datasets) (3.13.1)\n",
            "Requirement already satisfied: numpy>=1.17 in /usr/local/lib/python3.10/dist-packages (from datasets) (1.25.2)\n",
            "Requirement already satisfied: pyarrow>=12.0.0 in /usr/local/lib/python3.10/dist-packages (from datasets) (14.0.2)\n",
            "Requirement already satisfied: pyarrow-hotfix in /usr/local/lib/python3.10/dist-packages (from datasets) (0.6)\n",
            "Requirement already satisfied: dill<0.3.9,>=0.3.0 in /usr/local/lib/python3.10/dist-packages (from datasets) (0.3.8)\n",
            "Requirement already satisfied: pandas in /usr/local/lib/python3.10/dist-packages (from datasets) (1.5.3)\n",
            "Requirement already satisfied: requests>=2.19.0 in /usr/local/lib/python3.10/dist-packages (from datasets) (2.31.0)\n",
            "Requirement already satisfied: tqdm>=4.62.1 in /usr/local/lib/python3.10/dist-packages (from datasets) (4.66.2)\n",
            "Requirement already satisfied: xxhash in /usr/local/lib/python3.10/dist-packages (from datasets) (3.4.1)\n",
            "Requirement already satisfied: multiprocess in /usr/local/lib/python3.10/dist-packages (from datasets) (0.70.16)\n",
            "Requirement already satisfied: fsspec[http]<=2024.2.0,>=2023.1.0 in /usr/local/lib/python3.10/dist-packages (from datasets) (2023.6.0)\n",
            "Requirement already satisfied: aiohttp in /usr/local/lib/python3.10/dist-packages (from datasets) (3.9.3)\n",
            "Requirement already satisfied: huggingface-hub>=0.19.4 in /usr/local/lib/python3.10/dist-packages (from datasets) (0.20.3)\n",
            "Requirement already satisfied: packaging in /usr/local/lib/python3.10/dist-packages (from datasets) (23.2)\n",
            "Requirement already satisfied: pyyaml>=5.1 in /usr/local/lib/python3.10/dist-packages (from datasets) (6.0.1)\n",
            "Requirement already satisfied: aiosignal>=1.1.2 in /usr/local/lib/python3.10/dist-packages (from aiohttp->datasets) (1.3.1)\n",
            "Requirement already satisfied: attrs>=17.3.0 in /usr/local/lib/python3.10/dist-packages (from aiohttp->datasets) (23.2.0)\n",
            "Requirement already satisfied: frozenlist>=1.1.1 in /usr/local/lib/python3.10/dist-packages (from aiohttp->datasets) (1.4.1)\n",
            "Requirement already satisfied: multidict<7.0,>=4.5 in /usr/local/lib/python3.10/dist-packages (from aiohttp->datasets) (6.0.5)\n",
            "Requirement already satisfied: yarl<2.0,>=1.0 in /usr/local/lib/python3.10/dist-packages (from aiohttp->datasets) (1.9.4)\n",
            "Requirement already satisfied: async-timeout<5.0,>=4.0 in /usr/local/lib/python3.10/dist-packages (from aiohttp->datasets) (4.0.3)\n",
            "Requirement already satisfied: typing-extensions>=3.7.4.3 in /usr/local/lib/python3.10/dist-packages (from huggingface-hub>=0.19.4->datasets) (4.10.0)\n",
            "Requirement already satisfied: charset-normalizer<4,>=2 in /usr/local/lib/python3.10/dist-packages (from requests>=2.19.0->datasets) (3.3.2)\n",
            "Requirement already satisfied: idna<4,>=2.5 in /usr/local/lib/python3.10/dist-packages (from requests>=2.19.0->datasets) (3.6)\n",
            "Requirement already satisfied: urllib3<3,>=1.21.1 in /usr/local/lib/python3.10/dist-packages (from requests>=2.19.0->datasets) (2.0.7)\n",
            "Requirement already satisfied: certifi>=2017.4.17 in /usr/local/lib/python3.10/dist-packages (from requests>=2.19.0->datasets) (2024.2.2)\n",
            "Requirement already satisfied: python-dateutil>=2.8.1 in /usr/local/lib/python3.10/dist-packages (from pandas->datasets) (2.8.2)\n",
            "Requirement already satisfied: pytz>=2020.1 in /usr/local/lib/python3.10/dist-packages (from pandas->datasets) (2023.4)\n",
            "Requirement already satisfied: six>=1.5 in /usr/local/lib/python3.10/dist-packages (from python-dateutil>=2.8.1->pandas->datasets) (1.16.0)\n"
          ]
        }
      ]
    },
    {
      "cell_type": "code",
      "source": [
        "from datasets import load_dataset\n",
        "\n",
        "dataset = load_dataset(\"divergente/wikitext-ptbr-1\", \"default\")"
      ],
      "metadata": {
        "colab": {
          "base_uri": "https://localhost:8080/"
        },
        "id": "9fvLgDuA1Giu",
        "outputId": "b726aec8-06ab-428a-b7a4-dd694e18743d"
      },
      "execution_count": 2,
      "outputs": [
        {
          "output_type": "stream",
          "name": "stderr",
          "text": [
            "/usr/local/lib/python3.10/dist-packages/huggingface_hub/utils/_token.py:88: UserWarning: \n",
            "The secret `HF_TOKEN` does not exist in your Colab secrets.\n",
            "To authenticate with the Hugging Face Hub, create a token in your settings tab (https://huggingface.co/settings/tokens), set it as secret in your Google Colab and restart your session.\n",
            "You will be able to reuse this secret in all of your notebooks.\n",
            "Please note that authentication is recommended but still optional to access public models or datasets.\n",
            "  warnings.warn(\n"
          ]
        }
      ]
    },
    {
      "cell_type": "markdown",
      "source": [
        "Utilizaremos 200 textos do dataset para realizar o fine-tuning do modelo já treinado BERTimbau."
      ],
      "metadata": {
        "id": "mFYO8aCiTfRr"
      }
    },
    {
      "cell_type": "code",
      "source": [
        "import pandas as pd\n",
        "df = pd.DataFrame(data=dataset['train'][0:200]['text'], columns=[\"text\"])\n",
        "df.head()"
      ],
      "metadata": {
        "colab": {
          "base_uri": "https://localhost:8080/",
          "height": 206
        },
        "id": "sPxUH4lV8kaI",
        "outputId": "d40cfc41-7dc5-4ee9-ff17-d0028a060cf4"
      },
      "execution_count": 3,
      "outputs": [
        {
          "output_type": "execute_result",
          "data": {
            "text/plain": [
              "                                                text\n",
              "0  Formação estrelar na Grande Nuvem de Magalhães...\n",
              "1  Fondachelli Fantina, Sicília. Inicialmente, a ...\n",
              "2  Nebulosa planetária de Formiga. A ejecção de g...\n",
              "3  Astronomia extragaláctica  exemplo de lente gr...\n",
              "4  A radioastronomia estuda a radiação com compri..."
            ],
            "text/html": [
              "\n",
              "  <div id=\"df-81247320-62c0-423d-956b-64354fb049a9\" class=\"colab-df-container\">\n",
              "    <div>\n",
              "<style scoped>\n",
              "    .dataframe tbody tr th:only-of-type {\n",
              "        vertical-align: middle;\n",
              "    }\n",
              "\n",
              "    .dataframe tbody tr th {\n",
              "        vertical-align: top;\n",
              "    }\n",
              "\n",
              "    .dataframe thead th {\n",
              "        text-align: right;\n",
              "    }\n",
              "</style>\n",
              "<table border=\"1\" class=\"dataframe\">\n",
              "  <thead>\n",
              "    <tr style=\"text-align: right;\">\n",
              "      <th></th>\n",
              "      <th>text</th>\n",
              "    </tr>\n",
              "  </thead>\n",
              "  <tbody>\n",
              "    <tr>\n",
              "      <th>0</th>\n",
              "      <td>Formação estrelar na Grande Nuvem de Magalhães...</td>\n",
              "    </tr>\n",
              "    <tr>\n",
              "      <th>1</th>\n",
              "      <td>Fondachelli Fantina, Sicília. Inicialmente, a ...</td>\n",
              "    </tr>\n",
              "    <tr>\n",
              "      <th>2</th>\n",
              "      <td>Nebulosa planetária de Formiga. A ejecção de g...</td>\n",
              "    </tr>\n",
              "    <tr>\n",
              "      <th>3</th>\n",
              "      <td>Astronomia extragaláctica  exemplo de lente gr...</td>\n",
              "    </tr>\n",
              "    <tr>\n",
              "      <th>4</th>\n",
              "      <td>A radioastronomia estuda a radiação com compri...</td>\n",
              "    </tr>\n",
              "  </tbody>\n",
              "</table>\n",
              "</div>\n",
              "    <div class=\"colab-df-buttons\">\n",
              "\n",
              "  <div class=\"colab-df-container\">\n",
              "    <button class=\"colab-df-convert\" onclick=\"convertToInteractive('df-81247320-62c0-423d-956b-64354fb049a9')\"\n",
              "            title=\"Convert this dataframe to an interactive table.\"\n",
              "            style=\"display:none;\">\n",
              "\n",
              "  <svg xmlns=\"http://www.w3.org/2000/svg\" height=\"24px\" viewBox=\"0 -960 960 960\">\n",
              "    <path d=\"M120-120v-720h720v720H120Zm60-500h600v-160H180v160Zm220 220h160v-160H400v160Zm0 220h160v-160H400v160ZM180-400h160v-160H180v160Zm440 0h160v-160H620v160ZM180-180h160v-160H180v160Zm440 0h160v-160H620v160Z\"/>\n",
              "  </svg>\n",
              "    </button>\n",
              "\n",
              "  <style>\n",
              "    .colab-df-container {\n",
              "      display:flex;\n",
              "      gap: 12px;\n",
              "    }\n",
              "\n",
              "    .colab-df-convert {\n",
              "      background-color: #E8F0FE;\n",
              "      border: none;\n",
              "      border-radius: 50%;\n",
              "      cursor: pointer;\n",
              "      display: none;\n",
              "      fill: #1967D2;\n",
              "      height: 32px;\n",
              "      padding: 0 0 0 0;\n",
              "      width: 32px;\n",
              "    }\n",
              "\n",
              "    .colab-df-convert:hover {\n",
              "      background-color: #E2EBFA;\n",
              "      box-shadow: 0px 1px 2px rgba(60, 64, 67, 0.3), 0px 1px 3px 1px rgba(60, 64, 67, 0.15);\n",
              "      fill: #174EA6;\n",
              "    }\n",
              "\n",
              "    .colab-df-buttons div {\n",
              "      margin-bottom: 4px;\n",
              "    }\n",
              "\n",
              "    [theme=dark] .colab-df-convert {\n",
              "      background-color: #3B4455;\n",
              "      fill: #D2E3FC;\n",
              "    }\n",
              "\n",
              "    [theme=dark] .colab-df-convert:hover {\n",
              "      background-color: #434B5C;\n",
              "      box-shadow: 0px 1px 3px 1px rgba(0, 0, 0, 0.15);\n",
              "      filter: drop-shadow(0px 1px 2px rgba(0, 0, 0, 0.3));\n",
              "      fill: #FFFFFF;\n",
              "    }\n",
              "  </style>\n",
              "\n",
              "    <script>\n",
              "      const buttonEl =\n",
              "        document.querySelector('#df-81247320-62c0-423d-956b-64354fb049a9 button.colab-df-convert');\n",
              "      buttonEl.style.display =\n",
              "        google.colab.kernel.accessAllowed ? 'block' : 'none';\n",
              "\n",
              "      async function convertToInteractive(key) {\n",
              "        const element = document.querySelector('#df-81247320-62c0-423d-956b-64354fb049a9');\n",
              "        const dataTable =\n",
              "          await google.colab.kernel.invokeFunction('convertToInteractive',\n",
              "                                                    [key], {});\n",
              "        if (!dataTable) return;\n",
              "\n",
              "        const docLinkHtml = 'Like what you see? Visit the ' +\n",
              "          '<a target=\"_blank\" href=https://colab.research.google.com/notebooks/data_table.ipynb>data table notebook</a>'\n",
              "          + ' to learn more about interactive tables.';\n",
              "        element.innerHTML = '';\n",
              "        dataTable['output_type'] = 'display_data';\n",
              "        await google.colab.output.renderOutput(dataTable, element);\n",
              "        const docLink = document.createElement('div');\n",
              "        docLink.innerHTML = docLinkHtml;\n",
              "        element.appendChild(docLink);\n",
              "      }\n",
              "    </script>\n",
              "  </div>\n",
              "\n",
              "\n",
              "<div id=\"df-198cda56-d6d7-494f-8992-b2e3fb4c219f\">\n",
              "  <button class=\"colab-df-quickchart\" onclick=\"quickchart('df-198cda56-d6d7-494f-8992-b2e3fb4c219f')\"\n",
              "            title=\"Suggest charts\"\n",
              "            style=\"display:none;\">\n",
              "\n",
              "<svg xmlns=\"http://www.w3.org/2000/svg\" height=\"24px\"viewBox=\"0 0 24 24\"\n",
              "     width=\"24px\">\n",
              "    <g>\n",
              "        <path d=\"M19 3H5c-1.1 0-2 .9-2 2v14c0 1.1.9 2 2 2h14c1.1 0 2-.9 2-2V5c0-1.1-.9-2-2-2zM9 17H7v-7h2v7zm4 0h-2V7h2v10zm4 0h-2v-4h2v4z\"/>\n",
              "    </g>\n",
              "</svg>\n",
              "  </button>\n",
              "\n",
              "<style>\n",
              "  .colab-df-quickchart {\n",
              "      --bg-color: #E8F0FE;\n",
              "      --fill-color: #1967D2;\n",
              "      --hover-bg-color: #E2EBFA;\n",
              "      --hover-fill-color: #174EA6;\n",
              "      --disabled-fill-color: #AAA;\n",
              "      --disabled-bg-color: #DDD;\n",
              "  }\n",
              "\n",
              "  [theme=dark] .colab-df-quickchart {\n",
              "      --bg-color: #3B4455;\n",
              "      --fill-color: #D2E3FC;\n",
              "      --hover-bg-color: #434B5C;\n",
              "      --hover-fill-color: #FFFFFF;\n",
              "      --disabled-bg-color: #3B4455;\n",
              "      --disabled-fill-color: #666;\n",
              "  }\n",
              "\n",
              "  .colab-df-quickchart {\n",
              "    background-color: var(--bg-color);\n",
              "    border: none;\n",
              "    border-radius: 50%;\n",
              "    cursor: pointer;\n",
              "    display: none;\n",
              "    fill: var(--fill-color);\n",
              "    height: 32px;\n",
              "    padding: 0;\n",
              "    width: 32px;\n",
              "  }\n",
              "\n",
              "  .colab-df-quickchart:hover {\n",
              "    background-color: var(--hover-bg-color);\n",
              "    box-shadow: 0 1px 2px rgba(60, 64, 67, 0.3), 0 1px 3px 1px rgba(60, 64, 67, 0.15);\n",
              "    fill: var(--button-hover-fill-color);\n",
              "  }\n",
              "\n",
              "  .colab-df-quickchart-complete:disabled,\n",
              "  .colab-df-quickchart-complete:disabled:hover {\n",
              "    background-color: var(--disabled-bg-color);\n",
              "    fill: var(--disabled-fill-color);\n",
              "    box-shadow: none;\n",
              "  }\n",
              "\n",
              "  .colab-df-spinner {\n",
              "    border: 2px solid var(--fill-color);\n",
              "    border-color: transparent;\n",
              "    border-bottom-color: var(--fill-color);\n",
              "    animation:\n",
              "      spin 1s steps(1) infinite;\n",
              "  }\n",
              "\n",
              "  @keyframes spin {\n",
              "    0% {\n",
              "      border-color: transparent;\n",
              "      border-bottom-color: var(--fill-color);\n",
              "      border-left-color: var(--fill-color);\n",
              "    }\n",
              "    20% {\n",
              "      border-color: transparent;\n",
              "      border-left-color: var(--fill-color);\n",
              "      border-top-color: var(--fill-color);\n",
              "    }\n",
              "    30% {\n",
              "      border-color: transparent;\n",
              "      border-left-color: var(--fill-color);\n",
              "      border-top-color: var(--fill-color);\n",
              "      border-right-color: var(--fill-color);\n",
              "    }\n",
              "    40% {\n",
              "      border-color: transparent;\n",
              "      border-right-color: var(--fill-color);\n",
              "      border-top-color: var(--fill-color);\n",
              "    }\n",
              "    60% {\n",
              "      border-color: transparent;\n",
              "      border-right-color: var(--fill-color);\n",
              "    }\n",
              "    80% {\n",
              "      border-color: transparent;\n",
              "      border-right-color: var(--fill-color);\n",
              "      border-bottom-color: var(--fill-color);\n",
              "    }\n",
              "    90% {\n",
              "      border-color: transparent;\n",
              "      border-bottom-color: var(--fill-color);\n",
              "    }\n",
              "  }\n",
              "</style>\n",
              "\n",
              "  <script>\n",
              "    async function quickchart(key) {\n",
              "      const quickchartButtonEl =\n",
              "        document.querySelector('#' + key + ' button');\n",
              "      quickchartButtonEl.disabled = true;  // To prevent multiple clicks.\n",
              "      quickchartButtonEl.classList.add('colab-df-spinner');\n",
              "      try {\n",
              "        const charts = await google.colab.kernel.invokeFunction(\n",
              "            'suggestCharts', [key], {});\n",
              "      } catch (error) {\n",
              "        console.error('Error during call to suggestCharts:', error);\n",
              "      }\n",
              "      quickchartButtonEl.classList.remove('colab-df-spinner');\n",
              "      quickchartButtonEl.classList.add('colab-df-quickchart-complete');\n",
              "    }\n",
              "    (() => {\n",
              "      let quickchartButtonEl =\n",
              "        document.querySelector('#df-198cda56-d6d7-494f-8992-b2e3fb4c219f button');\n",
              "      quickchartButtonEl.style.display =\n",
              "        google.colab.kernel.accessAllowed ? 'block' : 'none';\n",
              "    })();\n",
              "  </script>\n",
              "</div>\n",
              "    </div>\n",
              "  </div>\n"
            ],
            "application/vnd.google.colaboratory.intrinsic+json": {
              "type": "dataframe",
              "variable_name": "df",
              "summary": "{\n  \"name\": \"df\",\n  \"rows\": 200,\n  \"fields\": [\n    {\n      \"column\": \"text\",\n      \"properties\": {\n        \"dtype\": \"string\",\n        \"num_unique_values\": 200,\n        \"samples\": [\n          \"O escritor Stanis aw W\\u00f3jtowicz diz que, embora os anarcocapitalistas sejam contra os estados centralizados, eles sustentam que todas as pessoas naturalmente compartilhariam e concordariam com uma teoria moral espec\\u00edfica baseada no princ\\u00edpio da n\\u00e3o agress\\u00e3o. Embora a formula\\u00e7\\u00e3o de Friedman do anarcocapitalismo seja robusta diante \\u00e0 presen\\u00e7a de viol\\u00eancia e de fato, suponha que algum grau de viol\\u00eancia ocorrer\\u00e1, o anarcocapitalismo formulado por Rothbard e outros mant\\u00e9m fortemente o axioma central libert\\u00e1rio da n\\u00e3o agress\\u00e3o, \\u00e0s vezes princ\\u00edpio de n\\u00e3o agress\\u00e3o. Rothbard escreveu  Em geral, pode-se dizer que o axioma da n\\u00e3o agress\\u00e3o \\u00e9 uma proibi\\u00e7\\u00e3o contra o in\\u00edcio de viol\\u00eancia ou da amea\\u00e7a de uso de viol\\u00eancia contra pessoas  ou seja, viol\\u00eancia direta, assalto, assassinato, etc.  ou contra a propriedade leg\\u00edtima  roubo, fraude, impostos . Agress\\u00e3o, portanto, \\u00e9 um sin\\u00f4nimo de invas\\u00e3o. A inicia\\u00e7\\u00e3o da viol\\u00eancia tamb\\u00e9m pode ser referida como coer\\u00e7\\u00e3o. A diferen\\u00e7a entre anarcocapitalistas e outros libert\\u00e1rios liberais \\u00e9 basicamente devido ao grau de compromisso com este axioma. Por exemplo, os liberais minarquistas, ou cl\\u00e1ssicos, preservariam o Estado  com sua agress\\u00e3o inerente  de forma limitada e com esferas de a\\u00e7\\u00e3o m\\u00ednimas, cujas fun\\u00e7\\u00f5es consistiriam apenas em defesa nacional, seguran\\u00e7a p\\u00fablica, ordem interna, direito e justi\\u00e7a. Em contraste, os anarcocapitalistas rejeitam qualquer n\\u00edveisl de interven\\u00e7\\u00e3o estatal, definindo o Estado como um monop\\u00f3lio coercivo diante o uso ileg\\u00edtimo da viol\\u00eancia e, que esta \\u00e9 a \\u00fanica entidade na sociedade humana, excluindo criminosos reconhecidos, que obt\\u00e9m sua renda inteiramente da coer\\u00e7\\u00e3o, na forma de tributa\\u00e7\\u00e3o, a qual Rothbard descreve como apreens\\u00e3o compuls\\u00f3ria dos bens dos habitantes. Alguns anarcocapitalistas, como Rothbard, aceitam o axioma da n\\u00e3o-agress\\u00e3o com base na moral intr\\u00ednseca ou na lei natural.   em termos do princ\\u00edpio da n\\u00e3o agress\\u00e3o que Rothbard definiu sua interpreta\\u00e7\\u00e3o do anarquismo, um sistema que n\\u00e3o fornece san\\u00e7\\u00e3o legal para tal agress\\u00e3o  contra pessoa e propriedade   e escreveu que o que o anarquismo se prop\\u00f5e a fazer, ent\\u00e3o, \\u00e9 abolir o Estado, ou seja, abolir a institui\\u00e7\\u00e3o regularizada de coer\\u00e7\\u00e3o agressiva. Em uma entrevista publicada no jornal libert\\u00e1rio americano The New Banner, Rothbard afirmou que o capitalismo \\u00e9 a express\\u00e3o mais completa do anarquismo, e o anarquismo \\u00e9 a express\\u00e3o mais completa do capitalismo.\",\n          \"Astronomia estelar  Estudo das estrelas, em geral. Forma\\u00e7\\u00e3o de estrelas  Estudo das condi\\u00e7\\u00f5es e dos processos que conduziram \\u00e0 forma\\u00e7\\u00e3o das estrelas no interior de nuvens do g\\u00e1s, e o pr\\u00f3prio processo da forma\\u00e7\\u00e3o. Evolu\\u00e7\\u00e3o estelar  Estudo da evolu\\u00e7\\u00e3o das estrelas, de sua forma\\u00e7\\u00e3o a seu fim como um remanescente estelar. Forma\\u00e7\\u00e3o estelar  Estudo das condi\\u00e7\\u00f5es e processos que levam \\u00e0 forma\\u00e7\\u00e3o de estrelas no interior de nuvens de g\\u00e1s.\",\n          \"A Am\\u00e9rica Latina possui a mesma ordem de formas de relevo, no sentido norte-sul, em todas as latitudes. Dessa forma, h\\u00e1 cinco unidades geomorfol\\u00f3gicas mais importantes  Ficheiro Mt Aconcagua near Mendoza Argentina.jpg miniaturadaimagem Monte Aconc\\u00e1gua, na regi\\u00e3o andina da Patag\\u00f4nia, a maior montanha do continente americano, com quase sete mil metros de altura. Ficheiro Cancun aerial photo by safa.jpg miniaturadaimagem Vista do litoral de Canc\\u00fan, no M\\u00e9xico.  Baixadas litor\\u00e2neas banhadas pelo oceano Pac\\u00edfico, as quais aparecem muito curtas. Elevadas cordilheiras constitu\\u00eddas no per\\u00edodo terci\\u00e1rio, em que aconteceu grande tectonismo, depois que as camadas rochosas dobraram posteriormente, o que fez aparecer as cordilheiras.  As elevadas cordilheiras latino-americanas apresentam altitudes acima de 5 mil metros e picos revestidos por neve e derivam ainda de demais surgimentos de tectonismo, como terremotos, da atividade de uma grande variedade de vulc\\u00f5es, certos dos quais prontificados para que entrem em a\\u00e7\\u00e3o.  No M\\u00e9xico, a cordilheira \\u00e9 denominada de Sierra e constitui ambas as cristas horizontais  linhas no relevo pelas quais s\\u00e3o reunidos os pontos de maior altitude , que recebem o nome de Sierra Madre Ocidental e Sierra Madre Oriental. Na Am\\u00e9rica Central, essa cordilheira \\u00e9 formada por serras, como as de Isabela e Tatamanca. Na Am\\u00e9rica do Sul, aparecem os Andes, cujo ponto culminante \\u00e9 o pico Aconc\\u00e1gua, com 6 959 metros, na Argentina. Assim como na Sierra Madre, os Andes possuem cristas, dentre as quais est\\u00e3o localizados planaltos de soerguimento, chamados na regi\\u00e3o de altiplanos, com altitudes acima a 3 mil metros. Grandes plan\\u00edcies banhadas por rios, na Am\\u00e9rica do Sul  Amaz\\u00f4nica, do Orinoco, do Magdalena, Platina, do Pantanal ou Chaco, entre outros , que situam-se dentre as cordilheiras ocidentais e os planaltos orientais. Planaltos de desgaste na por\\u00e7\\u00e3o oriental da Am\\u00e9rica do Sul, cujas altitudes s\\u00e3o menores, que pouqu\\u00edssimas vezes ultrapassam 2 mil metros, devido \\u00e0 forma\\u00e7\\u00e3o do relevo regional por pedras de grande antiguidade, de grande desgaste pela eros\\u00e3o e n\\u00e3o possuem surgimentos de tectonismo. Pertencem a este relevo os planaltos das Guianas e Brasileiro, tendo como pontos culminantes os picos da Neblina  3 014 metros , 31 de Mar\\u00e7o, da Bandeira, das Agulhas Negras, etc. Baixadas litor\\u00e2neas banhadas pelo oceano Atl\\u00e2ntico, as quais quer s\\u00e3o estreitas e somem, possibilitando o aparecimento de fal\\u00e9sias ou litorais elevados, quer aparecem muito longas, originando grandes balne\\u00e1rios naturais.\"\n        ],\n        \"semantic_type\": \"\",\n        \"description\": \"\"\n      }\n    }\n  ]\n}"
            }
          },
          "metadata": {},
          "execution_count": 3
        }
      ]
    },
    {
      "cell_type": "markdown",
      "source": [
        "# Fine tuning do modelo BERTimbau\n",
        "\n",
        "Realizaremos então o fine-tuning do modelo BERTimbau utilizando a GPU do Google Colab."
      ],
      "metadata": {
        "id": "F12RsA_2UOOi"
      }
    },
    {
      "cell_type": "code",
      "source": [
        "import torch\n",
        "from torch.optim import AdamW\n",
        "from transformers import AutoTokenizer, AutoModelForMaskedLM\n",
        "from torch.utils.data import DataLoader, RandomSampler, SequentialSampler, TensorDataset\n",
        "from sklearn.model_selection import train_test_split\n",
        "from tqdm import tqdm\n",
        "import random\n",
        "\n",
        "device = 'cuda:0' if torch.cuda.is_available() else 'cpu'\n",
        "\n",
        "tokenizer = AutoTokenizer.from_pretrained(\"neuralmind/bert-base-portuguese-cased\")\n",
        "model = AutoModelForMaskedLM.from_pretrained(\"neuralmind/bert-base-portuguese-cased\").to(device)\n",
        "\n",
        "epochs = 15\n",
        "train_loss_set = []\n",
        "valid_loss_set = []\n",
        "\n",
        "def encode_text_with_masks(df, mask_prob=0.15):\n",
        "    input_ids = []\n",
        "    attention_masks = []\n",
        "\n",
        "    for text in df['text']:\n",
        "        tokens = tokenizer.tokenize(text)\n",
        "        mask_indices = [i for i, token in enumerate(tokens) if random.random() < mask_prob]\n",
        "\n",
        "        for mask_index in mask_indices:\n",
        "            if mask_index < len(tokens) - 1:\n",
        "                tokens[mask_index] = '[MASK]'\n",
        "\n",
        "        masked_text = ' '.join(tokens)\n",
        "        encoded_dict = tokenizer.encode_plus(\n",
        "                            masked_text,\n",
        "                            add_special_tokens=True,\n",
        "                            max_length=256,\n",
        "                            padding='max_length',\n",
        "                            truncation=True,\n",
        "                            return_attention_mask=True,\n",
        "                            return_tensors='pt'\n",
        "                        )\n",
        "\n",
        "        input_ids.append(encoded_dict['input_ids'])\n",
        "        attention_masks.append(encoded_dict['attention_mask'])\n",
        "\n",
        "    return input_ids, attention_masks\n",
        "\n",
        "input_ids, attention_masks = encode_text_with_masks(df)\n",
        "\n",
        "input_ids = torch.cat(input_ids, dim=0)\n",
        "attention_masks = torch.cat(attention_masks, dim=0)\n",
        "\n",
        "train_inputs, validation_inputs, train_masks, validation_masks = train_test_split(input_ids, attention_masks, random_state=42, test_size=0.3)\n",
        "\n",
        "train_data = TensorDataset(train_inputs, train_masks)\n",
        "train_sampler = RandomSampler(train_data)\n",
        "train_dataloader = DataLoader(train_data, sampler=train_sampler, batch_size=32)\n",
        "\n",
        "validation_data = TensorDataset(validation_inputs, validation_masks)\n",
        "validation_sampler = SequentialSampler(validation_data)\n",
        "validation_dataloader = DataLoader(validation_data, sampler=validation_sampler, batch_size=32)\n",
        "\n",
        "optimizer = AdamW(model.parameters(), lr=2e-5, eps=1e-8)\n",
        "\n",
        "for epoch_i in tqdm(range(0, epochs)):\n",
        "    model.train()\n",
        "    total_train_loss = 0\n",
        "    total_train_accuracy = 0\n",
        "    for step, batch in enumerate(train_dataloader):\n",
        "        b_input_ids = batch[0].to(device)\n",
        "        b_input_mask = batch[1].to(device)\n",
        "        model.zero_grad()\n",
        "        outputs = model(b_input_ids,\n",
        "                        token_type_ids=None,\n",
        "                        attention_mask=b_input_mask,\n",
        "                        labels=b_input_ids)\n",
        "\n",
        "        loss = outputs.loss\n",
        "        total_train_loss += loss.item()\n",
        "\n",
        "        loss.backward()\n",
        "        optimizer.step()\n",
        "\n",
        "\n",
        "    avg_train_loss = total_train_loss / len(train_dataloader)\n",
        "    train_loss_set.append(avg_train_loss)\n",
        "\n",
        "    model.eval()\n",
        "    total_valid_accuracy = 0\n",
        "    total_valid_loss = 0\n",
        "    for batch in validation_dataloader:\n",
        "        b_input_ids = batch[0].to(device)\n",
        "        b_input_mask = batch[1].to(device)\n",
        "        with torch.no_grad():\n",
        "            outputs = model(b_input_ids,\n",
        "                            token_type_ids=None,\n",
        "                            attention_mask=b_input_mask,\n",
        "                            labels=b_input_ids)\n",
        "\n",
        "        loss = outputs.loss\n",
        "        total_valid_loss += loss.item()\n",
        "\n",
        "    avg_valid_loss = total_valid_loss / len(validation_dataloader)\n",
        "    valid_loss_set.append(avg_valid_loss)\n",
        "\n",
        "torch.save(model.state_dict(), 'model_fine_tuned.pt')\n",
        "\n"
      ],
      "metadata": {
        "colab": {
          "base_uri": "https://localhost:8080/"
        },
        "id": "I4lNnMaKBzwT",
        "outputId": "c0f85ca5-792e-4ac5-9c97-2ac9b1be9e2e"
      },
      "execution_count": 4,
      "outputs": [
        {
          "output_type": "stream",
          "name": "stderr",
          "text": [
            "/usr/local/lib/python3.10/dist-packages/torch/_utils.py:831: UserWarning: TypedStorage is deprecated. It will be removed in the future and UntypedStorage will be the only storage class. This should only matter to you if you are using storages directly.  To access UntypedStorage directly, use tensor.untyped_storage() instead of tensor.storage()\n",
            "  return self.fget.__get__(instance, owner)()\n",
            "Some weights of the model checkpoint at neuralmind/bert-base-portuguese-cased were not used when initializing BertForMaskedLM: ['bert.pooler.dense.bias', 'bert.pooler.dense.weight', 'cls.seq_relationship.bias', 'cls.seq_relationship.weight']\n",
            "- This IS expected if you are initializing BertForMaskedLM from the checkpoint of a model trained on another task or with another architecture (e.g. initializing a BertForSequenceClassification model from a BertForPreTraining model).\n",
            "- This IS NOT expected if you are initializing BertForMaskedLM from the checkpoint of a model that you expect to be exactly identical (initializing a BertForSequenceClassification model from a BertForSequenceClassification model).\n",
            "100%|██████████| 15/15 [02:13<00:00,  8.90s/it]\n"
          ]
        }
      ]
    },
    {
      "cell_type": "markdown",
      "source": [
        "## Loss\n",
        "Após o fine-tuning, podemos observar a perda durante o treinamento utilizando nossos dados."
      ],
      "metadata": {
        "id": "j8J3tEhZUbY3"
      }
    },
    {
      "cell_type": "code",
      "source": [
        "import matplotlib.pyplot as plt\n",
        "\n",
        "plt.figure(figsize=(10, 5))\n",
        "plt.plot(train_loss_set, label=\"Treinamento\")\n",
        "plt.plot(valid_loss_set, label=\"Validação\")\n",
        "plt.title(\"Perda durante o Treinamento\")\n",
        "plt.xlabel(\"Épocas\")\n",
        "plt.ylabel(\"Perda\")\n",
        "plt.legend()\n",
        "plt.show()\n"
      ],
      "metadata": {
        "colab": {
          "base_uri": "https://localhost:8080/",
          "height": 489
        },
        "id": "7KjV3luyB-36",
        "outputId": "6a10ef21-1995-49bc-b363-af30bbd65cae"
      },
      "execution_count": 5,
      "outputs": [
        {
          "output_type": "display_data",
          "data": {
            "text/plain": [
              "<Figure size 1000x500 with 1 Axes>"
            ],
            "image/png": "[encoded data removed]"
          },
          "metadata": {}
        }
      ]
    },
    {
      "cell_type": "markdown",
      "source": [
        "# Testando o modelo"
      ],
      "metadata": {
        "id": "OrxSbGq9Mphs"
      }
    },
    {
      "cell_type": "code",
      "source": [
        "model = AutoModelForMaskedLM.from_pretrained(\"neuralmind/bert-base-portuguese-cased\")\n",
        "\n",
        "model.load_state_dict(torch.load('model_fine_tuned.pt'))\n",
        "\n",
        "model.eval()"
      ],
      "metadata": {
        "colab": {
          "base_uri": "https://localhost:8080/"
        },
        "id": "C7GcVGvzjtIk",
        "outputId": "ac533a8b-f1c3-49ca-d5a8-f646aaae507d"
      },
      "execution_count": 6,
      "outputs": [
        {
          "output_type": "stream",
          "name": "stderr",
          "text": [
            "Some weights of the model checkpoint at neuralmind/bert-base-portuguese-cased were not used when initializing BertForMaskedLM: ['bert.pooler.dense.bias', 'bert.pooler.dense.weight', 'cls.seq_relationship.bias', 'cls.seq_relationship.weight']\n",
            "- This IS expected if you are initializing BertForMaskedLM from the checkpoint of a model trained on another task or with another architecture (e.g. initializing a BertForSequenceClassification model from a BertForPreTraining model).\n",
            "- This IS NOT expected if you are initializing BertForMaskedLM from the checkpoint of a model that you expect to be exactly identical (initializing a BertForSequenceClassification model from a BertForSequenceClassification model).\n"
          ]
        },
        {
          "output_type": "execute_result",
          "data": {
            "text/plain": [
              "BertForMaskedLM(\n",
              "  (bert): BertModel(\n",
              "    (embeddings): BertEmbeddings(\n",
              "      (word_embeddings): Embedding(29794, 768, padding_idx=0)\n",
              "      (position_embeddings): Embedding(512, 768)\n",
              "      (token_type_embeddings): Embedding(2, 768)\n",
              "      (LayerNorm): LayerNorm((768,), eps=1e-12, elementwise_affine=True)\n",
              "      (dropout): Dropout(p=0.1, inplace=False)\n",
              "    )\n",
              "    (encoder): BertEncoder(\n",
              "      (layer): ModuleList(\n",
              "        (0-11): 12 x BertLayer(\n",
              "          (attention): BertAttention(\n",
              "            (self): BertSelfAttention(\n",
              "              (query): Linear(in_features=768, out_features=768, bias=True)\n",
              "              (key): Linear(in_features=768, out_features=768, bias=True)\n",
              "              (value): Linear(in_features=768, out_features=768, bias=True)\n",
              "              (dropout): Dropout(p=0.1, inplace=False)\n",
              "            )\n",
              "            (output): BertSelfOutput(\n",
              "              (dense): Linear(in_features=768, out_features=768, bias=True)\n",
              "              (LayerNorm): LayerNorm((768,), eps=1e-12, elementwise_affine=True)\n",
              "              (dropout): Dropout(p=0.1, inplace=False)\n",
              "            )\n",
              "          )\n",
              "          (intermediate): BertIntermediate(\n",
              "            (dense): Linear(in_features=768, out_features=3072, bias=True)\n",
              "            (intermediate_act_fn): GELUActivation()\n",
              "          )\n",
              "          (output): BertOutput(\n",
              "            (dense): Linear(in_features=3072, out_features=768, bias=True)\n",
              "            (LayerNorm): LayerNorm((768,), eps=1e-12, elementwise_affine=True)\n",
              "            (dropout): Dropout(p=0.1, inplace=False)\n",
              "          )\n",
              "        )\n",
              "      )\n",
              "    )\n",
              "  )\n",
              "  (cls): BertOnlyMLMHead(\n",
              "    (predictions): BertLMPredictionHead(\n",
              "      (transform): BertPredictionHeadTransform(\n",
              "        (dense): Linear(in_features=768, out_features=768, bias=True)\n",
              "        (transform_act_fn): GELUActivation()\n",
              "        (LayerNorm): LayerNorm((768,), eps=1e-12, elementwise_affine=True)\n",
              "      )\n",
              "      (decoder): Linear(in_features=768, out_features=29794, bias=True)\n",
              "    )\n",
              "  )\n",
              ")"
            ]
          },
          "metadata": {},
          "execution_count": 6
        }
      ]
    },
    {
      "cell_type": "code",
      "source": [
        "model_pretrained = AutoModelForMaskedLM.from_pretrained(\"neuralmind/bert-base-portuguese-cased\")\n",
        "model = AutoModelForMaskedLM.from_pretrained(\"neuralmind/bert-base-portuguese-cased\")\n",
        "\n",
        "print(\"Modelos são iguais?\", model_pretrained.state_dict == model.state_dict)\n",
        "\n",
        "model.load_state_dict(torch.load('model_fine_tuned.pt'))\n",
        "\n",
        "model.eval()\n",
        "model_pretrained.eval()\n",
        "\n",
        "text = \"Aqui está um exemplo de texto onde queremos prever uma [MASK].\"\n",
        "\n",
        "encoded_input = tokenizer(text, return_tensors=\"pt\")\n",
        "\n",
        "with torch.no_grad():\n",
        "    predictions_pretrained = model_pretrained(**encoded_input)\n",
        "\n",
        "with torch.no_grad():\n",
        "    predictions = model(**encoded_input)\n",
        "\n",
        "\n",
        "mask_token_index = torch.where(encoded_input[\"input_ids\"] == tokenizer.mask_token_id)[1]\n",
        "\n",
        "top_n = 3\n",
        "\n",
        "top_n_tokens_pretrained = predictions_pretrained.logits[0, mask_token_index].topk(top_n).indices[0]\n",
        "\n",
        "top_n_tokens = predictions.logits[0, mask_token_index].topk(top_n).indices[0]\n",
        "\n",
        "predicted_tokens_pretrained = [tokenizer.decode([token_id]) for token_id in top_n_tokens_pretrained]\n",
        "\n",
        "predicted_tokens = [tokenizer.decode([token_id]) for token_id in top_n_tokens]\n",
        "\n",
        "\n",
        "print(f\"Texto com a máscara: {text}\")\n",
        "print(f\"Top {top_n} predições para a palavra mascarada (modelo pré treinado):\")\n",
        "for i, token in enumerate(predicted_tokens_pretrained, 1):\n",
        "    print(f\"{i}: {token}\")\n",
        "\n",
        "print(f\"Top {top_n} predições para a palavra mascarada (modelo fine-tuned):\")\n",
        "for i, token in enumerate(predicted_tokens, 1):\n",
        "    print(f\"{i}: {token}\")\n"
      ],
      "metadata": {
        "colab": {
          "base_uri": "https://localhost:8080/"
        },
        "id": "CgNDrrzMlQmC",
        "outputId": "e807d8f1-e92d-498d-f78f-7f145c058250"
      },
      "execution_count": 7,
      "outputs": [
        {
          "output_type": "stream",
          "name": "stderr",
          "text": [
            "Some weights of the model checkpoint at neuralmind/bert-base-portuguese-cased were not used when initializing BertForMaskedLM: ['bert.pooler.dense.bias', 'bert.pooler.dense.weight', 'cls.seq_relationship.bias', 'cls.seq_relationship.weight']\n",
            "- This IS expected if you are initializing BertForMaskedLM from the checkpoint of a model trained on another task or with another architecture (e.g. initializing a BertForSequenceClassification model from a BertForPreTraining model).\n",
            "- This IS NOT expected if you are initializing BertForMaskedLM from the checkpoint of a model that you expect to be exactly identical (initializing a BertForSequenceClassification model from a BertForSequenceClassification model).\n",
            "Some weights of the model checkpoint at neuralmind/bert-base-portuguese-cased were not used when initializing BertForMaskedLM: ['bert.pooler.dense.bias', 'bert.pooler.dense.weight', 'cls.seq_relationship.bias', 'cls.seq_relationship.weight']\n",
            "- This IS expected if you are initializing BertForMaskedLM from the checkpoint of a model trained on another task or with another architecture (e.g. initializing a BertForSequenceClassification model from a BertForPreTraining model).\n",
            "- This IS NOT expected if you are initializing BertForMaskedLM from the checkpoint of a model that you expect to be exactly identical (initializing a BertForSequenceClassification model from a BertForSequenceClassification model).\n"
          ]
        },
        {
          "output_type": "stream",
          "name": "stdout",
          "text": [
            "Modelos são iguais? False\n",
            "Texto com a máscara: Aqui está um exemplo de texto onde queremos prever uma [MASK].\n",
            "Top 3 predições para a palavra mascarada (modelo pré treinado):\n",
            "1: situação\n",
            "2: tempestade\n",
            "3: data\n",
            "Top 3 predições para a palavra mascarada (modelo fine-tuned):\n",
            "1: situação\n",
            "2: emergência\n",
            "3: ação\n"
          ]
        }
      ]
    }
  ]
}